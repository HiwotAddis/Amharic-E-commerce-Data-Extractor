{
 "cells": [
  {
   "cell_type": "markdown",
   "id": "527142e5",
   "metadata": {},
   "source": [
    "# Load Your Data & Model"
   ]
  },
  {
   "cell_type": "code",
   "execution_count": null,
   "id": "04f8dabe",
   "metadata": {
    "vscode": {
     "languageId": "plaintext"
    }
   },
   "outputs": [],
   "source": [
    "import pandas as pd\n",
    "from transformers import pipeline, AutoTokenizer, AutoModelForTokenClassification\n",
    "\n",
    "# Load CSV data\n",
    "df = pd.read_csv(\"../data/telegram_data.csv\", parse_dates=[\"Date\"])\n",
    "\n",
    "# Load NER model pipeline\n",
    "model_path = \"models/xlm-roberta-ner\"\n",
    "tokenizer = AutoTokenizer.from_pretrained(model_path)\n",
    "model = AutoModelForTokenClassification.from_pretrained(model_path)\n",
    "ner_pipeline = pipeline(\"ner\", model=model, tokenizer=tokenizer, aggregation_strategy=\"simple\")\n"
   ]
  },
  {
   "cell_type": "markdown",
   "id": "174343f2",
   "metadata": {},
   "source": [
    "# Extract Prices Using NER"
   ]
  },
  {
   "cell_type": "code",
   "execution_count": null,
   "id": "dd29f638",
   "metadata": {
    "vscode": {
     "languageId": "plaintext"
    }
   },
   "outputs": [],
   "source": [
    "import re\n",
    "\n",
    "def extract_prices(text):\n",
    "    entities = ner_pipeline(text)\n",
    "    prices = []\n",
    "    for e in entities:\n",
    "        if e[\"entity_group\"] == \"PRICE\":\n",
    "            # Clean up price string (remove commas, extract numbers)\n",
    "            numbers = re.findall(r'\\d+(?:,\\d+)?', e[\"word\"].replace(\",\", \"\"))\n",
    "            for n in numbers:\n",
    "                prices.append(int(n))\n",
    "    return prices\n"
   ]
  },
  {
   "cell_type": "markdown",
   "id": "f44f3d16",
   "metadata": {},
   "source": [
    "# Vendor-Level Analytics Engine"
   ]
  },
  {
   "cell_type": "code",
   "execution_count": null,
   "id": "c1c10ab6",
   "metadata": {
    "vscode": {
     "languageId": "plaintext"
    }
   },
   "outputs": [],
   "source": [
    "from collections import defaultdict\n",
    "\n",
    "vendor_stats = []\n",
    "\n",
    "# Group data by vendor channel\n",
    "for channel, group in df.groupby(\"Channel Username\"):\n",
    "    group = group.sort_values(\"Date\")\n",
    "    \n",
    "    # Activity & Consistency\n",
    "    post_dates = pd.to_datetime(group[\"Date\"])\n",
    "    weeks = (post_dates.max() - post_dates.min()).days / 7 or 1\n",
    "    posting_freq = len(group) / weeks\n",
    "\n",
    "    # Views\n",
    "    avg_views = group[\"Views\"].mean() if \"Views\" in group.columns else 0\n",
    "    top_post = group.loc[group[\"Views\"].idxmax()] if \"Views\" in group.columns else None\n",
    "\n",
    "    # NER: Extract prices\n",
    "    all_prices = []\n",
    "    for msg in group[\"Message\"]:\n",
    "        if isinstance(msg, str):\n",
    "            all_prices.extend(extract_prices(msg))\n",
    "    avg_price = sum(all_prices) / len(all_prices) if all_prices else 0\n",
    "\n",
    "    # Lending Score (you can customize weights)\n",
    "    score = (avg_views * 0.5) + (posting_freq * 0.5)\n",
    "\n",
    "    vendor_stats.append({\n",
    "        \"Channel\": channel,\n",
    "        \"Posts/Week\": round(posting_freq, 2),\n",
    "        \"Avg. Views/Post\": round(avg_views, 2),\n",
    "        \"Avg. Price (ETB)\": round(avg_price, 2),\n",
    "        \"Lending Score\": round(score, 2),\n",
    "        \"Top Product\": top_post[\"Message\"] if top_post is not None else \"N/A\",\n",
    "        \"Top Views\": top_post[\"Views\"] if top_post is not None else \"N/A\",\n",
    "    })\n"
   ]
  },
  {
   "cell_type": "markdown",
   "id": "f86f46d8",
   "metadata": {},
   "source": [
    "# Save Scorecard Table"
   ]
  },
  {
   "cell_type": "code",
   "execution_count": null,
   "id": "79ee71e5",
   "metadata": {
    "vscode": {
     "languageId": "plaintext"
    }
   },
   "outputs": [],
   "source": [
    "scorecard_df = pd.DataFrame(vendor_stats)\n",
    "scorecard_df = scorecard_df.sort_values(\"Lending Score\", ascending=False)\n",
    "\n",
    "# Save to CSV\n",
    "scorecard_df.to_csv(\"../data/vendor_scorecard.csv\", index=False)\n",
    "\n",
    "# Preview\n",
    "scorecard_df[[\"Channel\", \"Avg. Views/Post\", \"Posts/Week\", \"Avg. Price (ETB)\", \"Lending Score\"]]\n"
   ]
  }
 ],
 "metadata": {
  "language_info": {
   "name": "python"
  }
 },
 "nbformat": 4,
 "nbformat_minor": 5
}
