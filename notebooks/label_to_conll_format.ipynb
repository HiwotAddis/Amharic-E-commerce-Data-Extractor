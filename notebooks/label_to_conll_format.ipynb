{
 "cells": [
  {
   "cell_type": "markdown",
   "id": "69305051",
   "metadata": {},
   "source": [
    "# Load Raw Data"
   ]
  },
  {
   "cell_type": "code",
   "execution_count": 6,
   "id": "7a8ee4f4",
   "metadata": {},
   "outputs": [
    {
     "name": "stdout",
     "output_type": "stream",
     "text": [
      "First 20 lines:\n",
      "\n",
      "3pcs B-PRODUCT\n",
      "silicon I-PRODUCT\n",
      "brush I-PRODUCT\n",
      "spatulas I-PRODUCT\n",
      "እስከ O\n",
      "260°c O\n",
      "ሙቀት O\n",
      "መቆቆም O\n",
      "የሚችል O\n",
      "ዋጋ-550ብር I-PRICE\n",
      "አድራሻ O\n",
      "ቁ.1 O\n",
      "ስሪ O\n",
      "ኤም O\n",
      "ሲቲ O\n",
      "ሞል O\n",
      "ሁለተኛ O\n",
      "ፎቅ O\n",
      "ቢሮ O\n",
      "ቁ. O\n",
      "\n"
     ]
    }
   ],
   "source": [
    "file_path = '../data/labels/labeled_telegram_product_price_location.txt'\n",
    "with open(file_path, encoding='utf-8') as f:\n",
    "    raw_lines = f.readlines()\n",
    "\n",
    "print(\"First 20 lines:\\n\")\n",
    "print(\"\".join(raw_lines[:20]))"
   ]
  },
  {
   "cell_type": "markdown",
   "id": "454f0a24",
   "metadata": {},
   "source": [
    "# Clean and Structure to CoNLL"
   ]
  },
  {
   "cell_type": "code",
   "execution_count": 7,
   "id": "8199f040",
   "metadata": {},
   "outputs": [],
   "source": [
    "conll_lines = []\n",
    "skip_tokens = [\"\", \"\\n\"]\n",
    "\n",
    "for line in raw_lines:\n",
    "    # If it's an empty line or whitespace, treat it as a message separator\n",
    "    if line.strip() == \"\":\n",
    "        conll_lines.append(\"\")  # blank line\n",
    "        continue\n",
    "\n",
    "    parts = line.strip().split(maxsplit=1)\n",
    "\n",
    "    if len(parts) == 2:\n",
    "        token, label = parts\n",
    "        conll_lines.append(f\"{token}\\t{label}\")\n",
    "    elif len(parts) == 1:\n",
    "        token = parts[0]\n",
    "        conll_lines.append(f\"{token}\\tO\")\n"
   ]
  },
  {
   "cell_type": "markdown",
   "id": "c3abceea",
   "metadata": {},
   "source": [
    "# Save Clean CoNLL File"
   ]
  },
  {
   "cell_type": "code",
   "execution_count": 8,
   "id": "dd30fd2c",
   "metadata": {},
   "outputs": [
    {
     "name": "stdout",
     "output_type": "stream",
     "text": [
      "Saved cleaned CoNLL format to ../data/labels/conll_labeled_subset.txt\n"
     ]
    }
   ],
   "source": [
    "output_path = \"../data/labels/conll_labeled_subset.txt\"\n",
    "\n",
    "with open(output_path, \"w\", encoding=\"utf-8\") as f:\n",
    "    f.write(\"\\n\".join(conll_lines))\n",
    "\n",
    "print(f\"Saved cleaned CoNLL format to {output_path}\")\n"
   ]
  },
  {
   "cell_type": "markdown",
   "id": "d6c6da61",
   "metadata": {},
   "source": [
    "# Preview Final Output"
   ]
  },
  {
   "cell_type": "code",
   "execution_count": 9,
   "id": "7aac8276",
   "metadata": {},
   "outputs": [
    {
     "name": "stdout",
     "output_type": "stream",
     "text": [
      "3pcs\tB-PRODUCT\n",
      "silicon\tI-PRODUCT\n",
      "brush\tI-PRODUCT\n",
      "spatulas\tI-PRODUCT\n",
      "እስከ\tO\n",
      "260°c\tO\n",
      "ሙቀት\tO\n",
      "መቆቆም\tO\n",
      "የሚችል\tO\n",
      "ዋጋ-550ብር\tI-PRICE\n",
      "አድራሻ\tO\n",
      "ቁ.1\tO\n",
      "ስሪ\tO\n",
      "ኤም\tO\n",
      "ሲቲ\tO\n",
      "ሞል\tO\n",
      "ሁለተኛ\tO\n",
      "ፎቅ\tO\n",
      "ቢሮ\tO\n",
      "ቁ.\tO\n",
      "SL-05A(ከ\tO\n",
      "ሊፍቱ\tO\n",
      "ፊት\tO\n",
      "ለ\tO\n",
      "ፊት)\tO\n"
     ]
    }
   ],
   "source": [
    "with open(output_path, encoding='utf-8') as f:\n",
    "    for i in range(25):\n",
    "        print(f.readline().strip())\n"
   ]
  }
 ],
 "metadata": {
  "kernelspec": {
   "display_name": "base",
   "language": "python",
   "name": "python3"
  },
  "language_info": {
   "codemirror_mode": {
    "name": "ipython",
    "version": 3
   },
   "file_extension": ".py",
   "mimetype": "text/x-python",
   "name": "python",
   "nbconvert_exporter": "python",
   "pygments_lexer": "ipython3",
   "version": "3.13.2"
  }
 },
 "nbformat": 4,
 "nbformat_minor": 5
}
