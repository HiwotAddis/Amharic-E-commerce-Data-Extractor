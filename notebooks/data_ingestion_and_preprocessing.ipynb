{
 "cells": [
  {
   "cell_type": "markdown",
   "id": "866c4601",
   "metadata": {},
   "source": [
    "# Set Up Paths and Read CSV"
   ]
  },
  {
   "cell_type": "code",
   "execution_count": 10,
   "id": "54d9e403",
   "metadata": {},
   "outputs": [
    {
     "data": {
      "text/html": [
       "<div>\n",
       "<style scoped>\n",
       "    .dataframe tbody tr th:only-of-type {\n",
       "        vertical-align: middle;\n",
       "    }\n",
       "\n",
       "    .dataframe tbody tr th {\n",
       "        vertical-align: top;\n",
       "    }\n",
       "\n",
       "    .dataframe thead th {\n",
       "        text-align: right;\n",
       "    }\n",
       "</style>\n",
       "<table border=\"1\" class=\"dataframe\">\n",
       "  <thead>\n",
       "    <tr style=\"text-align: right;\">\n",
       "      <th></th>\n",
       "      <th>Channel Title</th>\n",
       "      <th>Channel Username</th>\n",
       "      <th>ID</th>\n",
       "      <th>Message</th>\n",
       "      <th>Date</th>\n",
       "      <th>Media Path</th>\n",
       "    </tr>\n",
       "  </thead>\n",
       "  <tbody>\n",
       "    <tr>\n",
       "      <th>0</th>\n",
       "      <td>Zemen Express®</td>\n",
       "      <td>@ZemenExpress</td>\n",
       "      <td>6994</td>\n",
       "      <td>NaN</td>\n",
       "      <td>2025-06-21 16:35:51+00:00</td>\n",
       "      <td>../data/raw/photos\\@ZemenExpress_6994.jpg</td>\n",
       "    </tr>\n",
       "    <tr>\n",
       "      <th>1</th>\n",
       "      <td>Zemen Express®</td>\n",
       "      <td>@ZemenExpress</td>\n",
       "      <td>6993</td>\n",
       "      <td>NaN</td>\n",
       "      <td>2025-06-21 16:35:51+00:00</td>\n",
       "      <td>../data/raw/photos\\@ZemenExpress_6993.jpg</td>\n",
       "    </tr>\n",
       "    <tr>\n",
       "      <th>2</th>\n",
       "      <td>Zemen Express®</td>\n",
       "      <td>@ZemenExpress</td>\n",
       "      <td>6992</td>\n",
       "      <td>NaN</td>\n",
       "      <td>2025-06-21 16:35:51+00:00</td>\n",
       "      <td>../data/raw/photos\\@ZemenExpress_6992.jpg</td>\n",
       "    </tr>\n",
       "    <tr>\n",
       "      <th>3</th>\n",
       "      <td>Zemen Express®</td>\n",
       "      <td>@ZemenExpress</td>\n",
       "      <td>6991</td>\n",
       "      <td>💥💥...................................💥💥\\n\\n📌Sa...</td>\n",
       "      <td>2025-06-21 16:35:51+00:00</td>\n",
       "      <td>../data/raw/photos\\@ZemenExpress_6991.jpg</td>\n",
       "    </tr>\n",
       "    <tr>\n",
       "      <th>4</th>\n",
       "      <td>Zemen Express®</td>\n",
       "      <td>@ZemenExpress</td>\n",
       "      <td>6990</td>\n",
       "      <td>NaN</td>\n",
       "      <td>2025-06-21 08:07:31+00:00</td>\n",
       "      <td>../data/raw/photos\\@ZemenExpress_6990.jpg</td>\n",
       "    </tr>\n",
       "  </tbody>\n",
       "</table>\n",
       "</div>"
      ],
      "text/plain": [
       "    Channel Title Channel Username    ID  \\\n",
       "0  Zemen Express®    @ZemenExpress  6994   \n",
       "1  Zemen Express®    @ZemenExpress  6993   \n",
       "2  Zemen Express®    @ZemenExpress  6992   \n",
       "3  Zemen Express®    @ZemenExpress  6991   \n",
       "4  Zemen Express®    @ZemenExpress  6990   \n",
       "\n",
       "                                             Message  \\\n",
       "0                                                NaN   \n",
       "1                                                NaN   \n",
       "2                                                NaN   \n",
       "3  💥💥...................................💥💥\\n\\n📌Sa...   \n",
       "4                                                NaN   \n",
       "\n",
       "                        Date                                 Media Path  \n",
       "0  2025-06-21 16:35:51+00:00  ../data/raw/photos\\@ZemenExpress_6994.jpg  \n",
       "1  2025-06-21 16:35:51+00:00  ../data/raw/photos\\@ZemenExpress_6993.jpg  \n",
       "2  2025-06-21 16:35:51+00:00  ../data/raw/photos\\@ZemenExpress_6992.jpg  \n",
       "3  2025-06-21 16:35:51+00:00  ../data/raw/photos\\@ZemenExpress_6991.jpg  \n",
       "4  2025-06-21 08:07:31+00:00  ../data/raw/photos\\@ZemenExpress_6990.jpg  "
      ]
     },
     "execution_count": 10,
     "metadata": {},
     "output_type": "execute_result"
    }
   ],
   "source": [
    "import pandas as pd\n",
    "from pathlib import Path\n",
    "\n",
    "# Load scraped messages\n",
    "df = pd.read_csv(\"../data/raw/telegram_data.csv\")\n",
    "df.head()\n"
   ]
  },
  {
   "cell_type": "markdown",
   "id": "22dd88bf",
   "metadata": {},
   "source": [
    "# Amharic Text Preprocessing"
   ]
  },
  {
   "cell_type": "code",
   "execution_count": 11,
   "id": "0d98f650",
   "metadata": {},
   "outputs": [
    {
     "data": {
      "text/html": [
       "<div>\n",
       "<style scoped>\n",
       "    .dataframe tbody tr th:only-of-type {\n",
       "        vertical-align: middle;\n",
       "    }\n",
       "\n",
       "    .dataframe tbody tr th {\n",
       "        vertical-align: top;\n",
       "    }\n",
       "\n",
       "    .dataframe thead th {\n",
       "        text-align: right;\n",
       "    }\n",
       "</style>\n",
       "<table border=\"1\" class=\"dataframe\">\n",
       "  <thead>\n",
       "    <tr style=\"text-align: right;\">\n",
       "      <th></th>\n",
       "      <th>Channel Title</th>\n",
       "      <th>cleaned_text</th>\n",
       "    </tr>\n",
       "  </thead>\n",
       "  <tbody>\n",
       "    <tr>\n",
       "      <th>3748</th>\n",
       "      <td>ልዩ እቃ</td>\n",
       "      <td>የፈለጉትን 1 ዕቃ መርጠው በነፃ ይውሰዱ ከላይ ከተለጠፉት 32 እቃዎች ዉ...</td>\n",
       "    </tr>\n",
       "    <tr>\n",
       "      <th>2006</th>\n",
       "      <td>መነሻዬ</td>\n",
       "      <td>ገላግሌ የልጆች ምግብ መስሪያ የልጆችን ልብ የሚያሸንፍ፣ የእናትን ጊዜ የ...</td>\n",
       "    </tr>\n",
       "    <tr>\n",
       "      <th>4741</th>\n",
       "      <td>Fashion tera</td>\n",
       "      <td></td>\n",
       "    </tr>\n",
       "    <tr>\n",
       "      <th>2589</th>\n",
       "      <td>መነሻዬ</td>\n",
       "      <td>Building block the restaurant ልጆች የራሳቸውን ሬስቶራን...</td>\n",
       "    </tr>\n",
       "    <tr>\n",
       "      <th>77</th>\n",
       "      <td>Zemen Express®</td>\n",
       "      <td></td>\n",
       "    </tr>\n",
       "  </tbody>\n",
       "</table>\n",
       "</div>"
      ],
      "text/plain": [
       "       Channel Title                                       cleaned_text\n",
       "3748           ልዩ እቃ  የፈለጉትን 1 ዕቃ መርጠው በነፃ ይውሰዱ ከላይ ከተለጠፉት 32 እቃዎች ዉ...\n",
       "2006            መነሻዬ  ገላግሌ የልጆች ምግብ መስሪያ የልጆችን ልብ የሚያሸንፍ፣ የእናትን ጊዜ የ...\n",
       "4741    Fashion tera                                                   \n",
       "2589            መነሻዬ  Building block the restaurant ልጆች የራሳቸውን ሬስቶራን...\n",
       "77    Zemen Express®                                                   "
      ]
     },
     "execution_count": 11,
     "metadata": {},
     "output_type": "execute_result"
    }
   ],
   "source": [
    "import re\n",
    "import emoji\n",
    "\n",
    "def clean_amharic_text(text):\n",
    "    if pd.isna(text):\n",
    "        return \"\"\n",
    "    text = emoji.replace_emoji(text, \"\")\n",
    "    text = re.sub(r'[^\\w\\s፡።፣፤፥፦፧፼፨]+', ' ', text)  # remove Latin punctuation\n",
    "    text = re.sub(r'\\s+', ' ', text).strip()\n",
    "    return text\n",
    "\n",
    "df['cleaned_text'] = df['Message'].apply(clean_amharic_text)\n",
    "df[['Channel Title', 'cleaned_text']].sample(5)\n"
   ]
  },
  {
   "cell_type": "markdown",
   "id": "9a443405",
   "metadata": {},
   "source": [
    "# Save Cleaned Data"
   ]
  },
  {
   "cell_type": "code",
   "execution_count": 12,
   "id": "f7b28eaf",
   "metadata": {},
   "outputs": [
    {
     "name": "stdout",
     "output_type": "stream",
     "text": [
      "Saved to data/processed/cleaned_telegram_data.csv\n"
     ]
    }
   ],
   "source": [
    "Path(\"../data/processed\").mkdir(parents=True, exist_ok=True)\n",
    "df.to_csv(\"../data/processed/cleaned_telegram_data.csv\", index=False, encoding=\"utf-8\")\n",
    "print(\"Saved to data/processed/cleaned_telegram_data.csv\")\n"
   ]
  },
  {
   "cell_type": "markdown",
   "id": "11468920",
   "metadata": {},
   "source": [
    "#  Load Existing Labeled Files"
   ]
  },
  {
   "cell_type": "code",
   "execution_count": null,
   "id": "5927c470",
   "metadata": {},
   "outputs": [
    {
     "name": "stdout",
     "output_type": "stream",
     "text": [
      "Sample from train.txt:\n",
      "ኢዴፓ B-ORG\n",
      "በየክልሉ O\n",
      "በሚንቀሳቀስበት O\n",
      "ጊዜ O\n",
      "ሁሉ O\n",
      "የሀገሪቱን O\n",
      "አጠቃላይ O\n",
      "ሕግእንዲሁም O\n",
      "የአካባቢውን O\n",
      "ባህልና O\n",
      "ቋንቋ O\n",
      "አክብሮ O\n",
      "በአካባቢው O\n",
      "የሚገኙ O\n",
      "የፖለቲካ O\n",
      "ድርጅቶችንም O\n",
      "አክብሮና O\n",
      "መብታቸውን O\n",
      "ጠብቆ O\n",
      "በጨዋነት O\n",
      "\n",
      "\n",
      "Sample from labeled_telegram_product_price_location.txt:\n",
      "3pcs B-PRODUCT\n",
      "silicon I-PRODUCT\n",
      "brush I-PRODUCT\n",
      "spatulas I-PRODUCT\n",
      "እስከ O\n",
      "260°c O\n",
      "ሙቀት O\n",
      "መቆቆም O\n",
      "የሚችል O\n",
      "ዋጋ-550ብር I-PRICE\n",
      "አድራሻ O\n",
      "ቁ.1 O\n",
      "ስሪ O\n",
      "ኤም O\n",
      "ሲቲ O\n",
      "ሞል O\n",
      "ሁለተኛ O\n",
      "ፎቅ O\n",
      "ቢሮ O\n",
      "ቁ. O\n",
      "\n"
     ]
    }
   ],
   "source": [
    "# Check your labeled files\n",
    "with open(\"../data/labels/train.txt\", encoding=\"utf-8\") as f:\n",
    "    lines = f.readlines()\n",
    "    print(\"Sample from train.txt:\")\n",
    "    print(\"\".join(lines[:20]))\n",
    "\n",
    "with open(\"../data/labels/labeled_telegram_product_price_location.txt\", encoding=\"utf-8\") as f:\n",
    "    labeled_lines = f.readlines()\n",
    "    print(\"\\nSample from labeled_telegram_product_price_location.txt:\")\n",
    "    print(\"\".join(labeled_lines[:20]))\n",
    "    \n"
   ]
  }
 ],
 "metadata": {
  "kernelspec": {
   "display_name": "base",
   "language": "python",
   "name": "python3"
  },
  "language_info": {
   "codemirror_mode": {
    "name": "ipython",
    "version": 3
   },
   "file_extension": ".py",
   "mimetype": "text/x-python",
   "name": "python",
   "nbconvert_exporter": "python",
   "pygments_lexer": "ipython3",
   "version": "3.13.2"
  }
 },
 "nbformat": 4,
 "nbformat_minor": 5
}
