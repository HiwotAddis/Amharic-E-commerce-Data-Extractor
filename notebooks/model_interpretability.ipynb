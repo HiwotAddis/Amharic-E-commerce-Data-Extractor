{
 "cells": [
  {
   "cell_type": "markdown",
   "id": "f59c0608",
   "metadata": {},
   "source": [
    "# Load Model, Tokenizer, and Sample Data"
   ]
  },
  {
   "cell_type": "code",
   "execution_count": null,
   "id": "dbc9a352",
   "metadata": {},
   "outputs": [],
   "source": [
    "!pip install shap lime transformers datasets torch --quiet\n",
    "from transformers import AutoTokenizer, AutoModelForTokenClassification, pipeline\n",
    "import torch\n",
    "\n",
    "model_path = \"../models/xlm-roberta-ner\"  \n",
    "tokenizer = AutoTokenizer.from_pretrained(model_path)\n",
    "model = AutoModelForTokenClassification.from_pretrained(model_path)\n",
    "\n",
    "ner_pipeline = pipeline(\"ner\", model=model, tokenizer=tokenizer, aggregation_strategy=\"simple\")\n"
   ]
  },
  {
   "cell_type": "markdown",
   "id": "f2938bf9",
   "metadata": {},
   "source": [
    "# Run NER on Sample Text"
   ]
  },
  {
   "cell_type": "code",
   "execution_count": null,
   "id": "cf9c61d1",
   "metadata": {},
   "outputs": [],
   "source": [
    "sample_text = \"3pcs silicon brush spatulas ዋጋ-550ብር ቦሌ አዲስ አበባ\"\n",
    "\n",
    "ner_results = ner_pipeline(sample_text)\n",
    "for entity in ner_results:\n",
    "    print(f\"{entity['word']} → {entity['entity_group']} (score: {round(entity['score'], 2)})\")\n"
   ]
  },
  {
   "cell_type": "markdown",
   "id": "58db74ce",
   "metadata": {},
   "source": [
    "# Explain with LIME"
   ]
  },
  {
   "cell_type": "code",
   "execution_count": null,
   "id": "7b3e625e",
   "metadata": {},
   "outputs": [],
   "source": [
    "from lime.lime_text import LimeTextExplainer\n",
    "\n",
    "explainer = LimeTextExplainer(class_names=model.config.id2label.values())\n",
    "\n",
    "def predict_proba(texts):\n",
    "    all_probs = []\n",
    "    for text in texts:\n",
    "        tokens = tokenizer(text, return_tensors=\"pt\", truncation=True)\n",
    "        with torch.no_grad():\n",
    "            outputs = model(**tokens).logits\n",
    "        probs = torch.nn.functional.softmax(outputs, dim=-1)\n",
    "        mean_probs = probs[0].mean(dim=0).numpy()\n",
    "        all_probs.append(mean_probs)\n",
    "    return all_probs\n",
    "\n",
    "# Explain sample\n",
    "exp = explainer.explain_instance(sample_text, predict_proba, num_features=10)\n",
    "exp.show_in_notebook(text=sample_text)\n"
   ]
  },
  {
   "cell_type": "markdown",
   "id": "8b4fb474",
   "metadata": {},
   "source": [
    "# Use SHAP for Global Feature Insight"
   ]
  },
  {
   "cell_type": "code",
   "execution_count": null,
   "id": "1375d3f5",
   "metadata": {},
   "outputs": [],
   "source": [
    "import shap\n",
    "\n",
    "# Explainer setup\n",
    "def tokenize_for_shap(texts):\n",
    "    return tokenizer(texts, padding=True, truncation=True, return_tensors=\"pt\")\n",
    "\n",
    "shap.initjs()\n",
    "\n",
    "# Wrap model\n",
    "class WrappedModel:\n",
    "    def __call__(self, texts):\n",
    "        inputs = tokenize_for_shap(texts)\n",
    "        with torch.no_grad():\n",
    "            logits = model(**inputs).logits\n",
    "            return logits.softmax(dim=-1).mean(dim=1).numpy()\n",
    "\n",
    "wrapped_model = WrappedModel()\n",
    "explainer = shap.Explainer(wrapped_model, tokenizer)\n",
    "\n",
    "shap_values = explainer([sample_text])\n",
    "shap.plots.text(shap_values[0])\n"
   ]
  },
  {
   "cell_type": "markdown",
   "id": "3df52afd",
   "metadata": {},
   "source": [
    "# Analyze Ambiguous or Incorrect Examples"
   ]
  },
  {
   "cell_type": "code",
   "execution_count": null,
   "id": "a8547b20",
   "metadata": {},
   "outputs": [],
   "source": [
    "wrong_preds = [\n",
    "    (tokens, predicted_tags, true_tags)\n",
    "    for tokens, predicted_tags, true_tags in zip(..., ..., ...)\n",
    "    if predicted_tags != true_tags\n",
    "]\n"
   ]
  }
 ],
 "metadata": {
  "kernelspec": {
   "display_name": "base",
   "language": "python",
   "name": "python3"
  },
  "language_info": {
   "codemirror_mode": {
    "name": "ipython",
    "version": 3
   },
   "file_extension": ".py",
   "mimetype": "text/x-python",
   "name": "python",
   "nbconvert_exporter": "python",
   "pygments_lexer": "ipython3",
   "version": "3.13.2"
  }
 },
 "nbformat": 4,
 "nbformat_minor": 5
}
